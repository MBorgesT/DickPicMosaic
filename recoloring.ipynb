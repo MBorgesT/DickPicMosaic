{
 "cells": [
  {
   "cell_type": "code",
   "execution_count": 1,
   "metadata": {},
   "outputs": [],
   "source": [
    "import pandas as pd\n",
    "import numpy as np\n",
    "import seaborn as sns\n",
    "import cv2\n",
    "import os\n",
    "import shutil\n",
    "from alive_progress import alive_bar"
   ]
  },
  {
   "cell_type": "code",
   "execution_count": 2,
   "metadata": {},
   "outputs": [],
   "source": [
    "def mountain_flattener(array, mag=3):\n",
    "    median = np.median(array)\n",
    "    new_array = []\n",
    "    for x in array:\n",
    "        if x == median:\n",
    "            new_array.append(x)\n",
    "        elif x < median:\n",
    "            inv_proportion = 1 - ((median - x) / median)\n",
    "            new_array.append((inv_proportion ** mag) * median)\n",
    "        else:\n",
    "            inv_proportion = 1 - (((x - median)) / (255 - median))\n",
    "            new_array.append((inv_proportion ** mag) * (255 - median))\n",
    "    return new_array"
   ]
  },
  {
   "cell_type": "code",
   "execution_count": 3,
   "metadata": {},
   "outputs": [
    {
     "data": {
      "text/html": [
       "<div>\n",
       "<style scoped>\n",
       "    .dataframe tbody tr th:only-of-type {\n",
       "        vertical-align: middle;\n",
       "    }\n",
       "\n",
       "    .dataframe tbody tr th {\n",
       "        vertical-align: top;\n",
       "    }\n",
       "\n",
       "    .dataframe thead th {\n",
       "        text-align: right;\n",
       "    }\n",
       "</style>\n",
       "<table border=\"1\" class=\"dataframe\">\n",
       "  <thead>\n",
       "    <tr style=\"text-align: right;\">\n",
       "      <th></th>\n",
       "      <th>file</th>\n",
       "      <th>r</th>\n",
       "      <th>g</th>\n",
       "      <th>b</th>\n",
       "    </tr>\n",
       "  </thead>\n",
       "  <tbody>\n",
       "    <tr>\n",
       "      <th>0</th>\n",
       "      <td>ru6quk.jpg</td>\n",
       "      <td>54.694375</td>\n",
       "      <td>76.696875</td>\n",
       "      <td>101.442813</td>\n",
       "    </tr>\n",
       "    <tr>\n",
       "      <th>1</th>\n",
       "      <td>rszoou.jpg</td>\n",
       "      <td>100.305156</td>\n",
       "      <td>111.791719</td>\n",
       "      <td>119.518125</td>\n",
       "    </tr>\n",
       "    <tr>\n",
       "      <th>2</th>\n",
       "      <td>ru0twz.jpg</td>\n",
       "      <td>51.970312</td>\n",
       "      <td>82.556719</td>\n",
       "      <td>107.626719</td>\n",
       "    </tr>\n",
       "    <tr>\n",
       "      <th>3</th>\n",
       "      <td>rsjip2.jpg</td>\n",
       "      <td>117.648594</td>\n",
       "      <td>127.010469</td>\n",
       "      <td>155.982500</td>\n",
       "    </tr>\n",
       "    <tr>\n",
       "      <th>4</th>\n",
       "      <td>rtkbd8.jpg</td>\n",
       "      <td>125.276719</td>\n",
       "      <td>138.511406</td>\n",
       "      <td>147.894531</td>\n",
       "    </tr>\n",
       "  </tbody>\n",
       "</table>\n",
       "</div>"
      ],
      "text/plain": [
       "         file           r           g           b\n",
       "0  ru6quk.jpg   54.694375   76.696875  101.442813\n",
       "1  rszoou.jpg  100.305156  111.791719  119.518125\n",
       "2  ru0twz.jpg   51.970312   82.556719  107.626719\n",
       "3  rsjip2.jpg  117.648594  127.010469  155.982500\n",
       "4  rtkbd8.jpg  125.276719  138.511406  147.894531"
      ]
     },
     "execution_count": 3,
     "metadata": {},
     "output_type": "execute_result"
    }
   ],
   "source": [
    "analysis_df = pd.read_csv('analysis.csv', index_col=0)\n",
    "analysis_df.head()"
   ]
  },
  {
   "cell_type": "code",
   "execution_count": 4,
   "metadata": {},
   "outputs": [
    {
     "data": {
      "text/html": [
       "<div>\n",
       "<style scoped>\n",
       "    .dataframe tbody tr th:only-of-type {\n",
       "        vertical-align: middle;\n",
       "    }\n",
       "\n",
       "    .dataframe tbody tr th {\n",
       "        vertical-align: top;\n",
       "    }\n",
       "\n",
       "    .dataframe thead th {\n",
       "        text-align: right;\n",
       "    }\n",
       "</style>\n",
       "<table border=\"1\" class=\"dataframe\">\n",
       "  <thead>\n",
       "    <tr style=\"text-align: right;\">\n",
       "      <th></th>\n",
       "      <th>file</th>\n",
       "      <th>r</th>\n",
       "      <th>g</th>\n",
       "      <th>b</th>\n",
       "    </tr>\n",
       "  </thead>\n",
       "  <tbody>\n",
       "    <tr>\n",
       "      <th>0</th>\n",
       "      <td>ru6quk.jpg</td>\n",
       "      <td>9.891731</td>\n",
       "      <td>27.048102</td>\n",
       "      <td>48.870956</td>\n",
       "    </tr>\n",
       "    <tr>\n",
       "      <th>1</th>\n",
       "      <td>rszoou.jpg</td>\n",
       "      <td>144.409033</td>\n",
       "      <td>133.926635</td>\n",
       "      <td>94.167446</td>\n",
       "    </tr>\n",
       "    <tr>\n",
       "      <th>2</th>\n",
       "      <td>ru0twz.jpg</td>\n",
       "      <td>8.063488</td>\n",
       "      <td>36.3108</td>\n",
       "      <td>61.922161</td>\n",
       "    </tr>\n",
       "    <tr>\n",
       "      <th>3</th>\n",
       "      <td>rsjip2.jpg</td>\n",
       "      <td>89.747725</td>\n",
       "      <td>85.446095</td>\n",
       "      <td>48.518943</td>\n",
       "    </tr>\n",
       "    <tr>\n",
       "      <th>4</th>\n",
       "      <td>rtkbd8.jpg</td>\n",
       "      <td>71.410604</td>\n",
       "      <td>58.631099</td>\n",
       "      <td>66.421715</td>\n",
       "    </tr>\n",
       "  </tbody>\n",
       "</table>\n",
       "</div>"
      ],
      "text/plain": [
       "         file           r           g          b\n",
       "0  ru6quk.jpg    9.891731   27.048102  48.870956\n",
       "1  rszoou.jpg  144.409033  133.926635  94.167446\n",
       "2  ru0twz.jpg    8.063488     36.3108  61.922161\n",
       "3  rsjip2.jpg   89.747725   85.446095  48.518943\n",
       "4  rtkbd8.jpg   71.410604   58.631099  66.421715"
      ]
     },
     "execution_count": 4,
     "metadata": {},
     "output_type": "execute_result"
    }
   ],
   "source": [
    "colors = analysis_df.values[:, 1:].transpose()\n",
    "files = analysis_df.values[:, 0].reshape(-1, 1)\n",
    "\n",
    "new_colors = np.array([mountain_flattener(c, mag=4) for c in colors]).transpose()\n",
    "recolored_df = pd.DataFrame(np.concatenate((files, new_colors), axis=1), columns=['file', 'r', 'g', 'b'])\n",
    "\n",
    "recolored_df.head()"
   ]
  },
  {
   "cell_type": "code",
   "execution_count": 5,
   "metadata": {},
   "outputs": [
    {
     "data": {
      "text/plain": [
       "<seaborn.axisgrid.JointGrid at 0x7f498fcef640>"
      ]
     },
     "execution_count": 5,
     "metadata": {},
     "output_type": "execute_result"
    },
    {
     "data": {
      "image/png": "[encoded data removed]",
      "text/plain": [
       "<Figure size 432x432 with 3 Axes>"
      ]
     },
     "metadata": {
      "needs_background": "light"
     },
     "output_type": "display_data"
    },
    {
     "data": {
      "image/png": "[encoded data removed]",
      "text/plain": [
       "<Figure size 432x432 with 3 Axes>"
      ]
     },
     "metadata": {
      "needs_background": "light"
     },
     "output_type": "display_data"
    },
    {
     "data": {
      "image/png": "[encoded data removed]",
      "text/plain": [
       "<Figure size 432x432 with 3 Axes>"
      ]
     },
     "metadata": {
      "needs_background": "light"
     },
     "output_type": "display_data"
    }
   ],
   "source": [
    "sns.jointplot(data=recolored_df, x='r', y='g', kind='hist')\n",
    "sns.jointplot(data=recolored_df, x='r', y='b', kind='hist')\n",
    "sns.jointplot(data=recolored_df, x='b', y='g', kind='hist')"
   ]
  },
  {
   "cell_type": "code",
   "execution_count": 6,
   "metadata": {},
   "outputs": [
    {
     "ename": "KeyboardInterrupt",
     "evalue": "",
     "output_type": "error",
     "traceback": [
      "\u001b[0;31m---------------------------------------------------------------------------\u001b[0m",
      "\u001b[0;31mKeyboardInterrupt\u001b[0m                         Traceback (most recent call last)",
      "\u001b[0;32m/tmp/ipykernel_52317/3973411034.py\u001b[0m in \u001b[0;36m<module>\u001b[0;34m\u001b[0m\n\u001b[1;32m     14\u001b[0m         \u001b[0;32mfor\u001b[0m \u001b[0mh\u001b[0m \u001b[0;32min\u001b[0m \u001b[0mrange\u001b[0m\u001b[0;34m(\u001b[0m\u001b[0;36m80\u001b[0m\u001b[0;34m)\u001b[0m\u001b[0;34m:\u001b[0m\u001b[0;34m\u001b[0m\u001b[0;34m\u001b[0m\u001b[0m\n\u001b[1;32m     15\u001b[0m             \u001b[0;32mfor\u001b[0m \u001b[0mi\u001b[0m\u001b[0;34m,\u001b[0m \u001b[0mdif\u001b[0m \u001b[0;32min\u001b[0m \u001b[0menumerate\u001b[0m\u001b[0;34m(\u001b[0m\u001b[0mdifs\u001b[0m\u001b[0;34m)\u001b[0m\u001b[0;34m:\u001b[0m\u001b[0;34m\u001b[0m\u001b[0;34m\u001b[0m\u001b[0m\n\u001b[0;32m---> 16\u001b[0;31m                 \u001b[0mimg\u001b[0m\u001b[0;34m[\u001b[0m\u001b[0mw\u001b[0m\u001b[0;34m]\u001b[0m\u001b[0;34m[\u001b[0m\u001b[0mh\u001b[0m\u001b[0;34m]\u001b[0m\u001b[0;34m[\u001b[0m\u001b[0mi\u001b[0m\u001b[0;34m]\u001b[0m \u001b[0;34m+=\u001b[0m \u001b[0mdif\u001b[0m\u001b[0;34m\u001b[0m\u001b[0;34m\u001b[0m\u001b[0m\n\u001b[0m\u001b[1;32m     17\u001b[0m     \u001b[0mnew_channels\u001b[0m \u001b[0;34m=\u001b[0m \u001b[0;34m[\u001b[0m\u001b[0;34m]\u001b[0m\u001b[0;34m\u001b[0m\u001b[0;34m\u001b[0m\u001b[0m\n\u001b[1;32m     18\u001b[0m     \u001b[0;32mfor\u001b[0m \u001b[0mc\u001b[0m \u001b[0;32min\u001b[0m \u001b[0mcv2\u001b[0m\u001b[0;34m.\u001b[0m\u001b[0msplit\u001b[0m\u001b[0;34m(\u001b[0m\u001b[0mimg\u001b[0m\u001b[0;34m)\u001b[0m\u001b[0;34m:\u001b[0m\u001b[0;34m\u001b[0m\u001b[0;34m\u001b[0m\u001b[0m\n",
      "\u001b[0;31mKeyboardInterrupt\u001b[0m: "
     ]
    }
   ],
   "source": [
    "from sklearn.preprocessing import MinMaxScaler\n",
    "\n",
    "if os.path.exists('recolored_pics/'):\n",
    "    shutil.rmtree('recolored_pics/')\n",
    "os.mkdir('recolored_pics/')\n",
    "\n",
    "scaler = MinMaxScaler(feature_range=(0, 255), clip=True)\n",
    "for (_, row), (_, old_row) in zip(recolored_df.iterrows(), analysis_df.iterrows()):\n",
    "    file_path = row['file']\n",
    "    img = cv2.imread(f'resized_pics/{file_path}')\n",
    "\n",
    "    difs = [row[c] - old_row[c] for c in ['r', 'g', 'b']]\n",
    "    for w in range(80):\n",
    "        for h in range(80):\n",
    "            for i, dif in enumerate(difs):\n",
    "                img[w][h][i] += dif\n",
    "    new_channels = []\n",
    "    for c in cv2.split(img):\n",
    "        new_channels.append(scaler.fit_transform(c))\n",
    "    img = cv2.merge(new_channels)\n",
    "    cv2.imwrite(f'recolored_pics/{file_path}', img)"
   ]
  }
 ],
 "metadata": {
  "interpreter": {
   "hash": "521bd52f7db69f83952e45c69a41cc5a9312142da056b7c563e70a654200e62d"
  },
  "kernelspec": {
   "display_name": "Python 3.9.5 64-bit ('base': conda)",
   "language": "python",
   "name": "python3"
  },
  "language_info": {
   "codemirror_mode": {
    "name": "ipython",
    "version": 3
   },
   "file_extension": ".py",
   "mimetype": "text/x-python",
   "name": "python",
   "nbconvert_exporter": "python",
   "pygments_lexer": "ipython3",
   "version": "3.9.5"
  },
  "orig_nbformat": 4
 },
 "nbformat": 4,
 "nbformat_minor": 2
}
